{
 "cells": [
  {
   "cell_type": "code",
   "execution_count": null,
   "metadata": {},
   "outputs": [],
   "source": [
    "# Purpose:\n",
    "# This program uses the actionLog file from DeepThought F20 condition3 (adaptive condition)\n",
    "# Calculates:\n",
    "#  the average # of steps per student for total tutor\n",
    "#  the average # of training steps per student for total tutor\n",
    "#  the average # of level end steps per student\n",
    "#  the average # of posttest steps per student\n",
    "#\n",
    "# Preprocessing:\n",
    "# Remove the rows with erroneous IDs: hkaakat, sukhan\n",
    "# Sort the rows based on userId, and actionCount\n",
    "#\n",
    "# Author:\n",
    "# Nazia Alam"
   ]
  },
  {
   "cell_type": "code",
   "execution_count": null,
   "metadata": {},
   "outputs": [],
   "source": [
    "#imports\n",
    "import pandas as pd\n",
    "import numpy as np\n",
    "import re"
   ]
  },
  {
   "cell_type": "code",
   "execution_count": null,
   "metadata": {},
   "outputs": [],
   "source": [
    "#Read file for condition3: actionLog_L7_3_F20.csv\n",
    "#Read only the necessary columns from the csv file\n",
    "col_list = [\"id\",\"userID\",\"courseID\",\"actionCount\",\"currentProblem\",\"stepCount\",\"stepPreState\",\"stepPostState\",\"actionCode\",\"currentProblemType\"]\n",
    "df = pd.read_csv(\"D:/Courses/Fall2021/CSC890/Fall2020 work/Analysis/Dataset/Condition3/actionLog_L7_3_F20.csv\", usecols=col_list)\n",
    "print(df.shape)\n",
    "print(df.head())\n"
   ]
  },
  {
   "cell_type": "code",
   "execution_count": null,
   "metadata": {},
   "outputs": [],
   "source": [
    "# Preprocessing\n",
    "# Remove the rows with erroneous IDs: hkaakat, sukhan\n",
    "\n",
    "# Get indexes for the rows that should be dropped\n",
    "indexNumbers = df.loc[(df['userID'] == 'hkaakat') | (df['userID'] =='sukhan')].index\n",
    "\n",
    "# Delete these row indexes \n",
    "df.drop(indexNumbers , inplace=True)\n",
    "print(df.shape)\n",
    "#print(df)"
   ]
  },
  {
   "cell_type": "code",
   "execution_count": null,
   "metadata": {},
   "outputs": [],
   "source": [
    "# Preprocessing\n",
    "# Sort the rows based on userId, and actionCount\n",
    "dfNew = df.sort_values(by=['userID','actionCount'])\n",
    "print(dfNew.shape)\n",
    "print(dfNew.head)\n",
    "#dfNew.to_csv(\"actionLog_3_F20_PreprocessedStepAnalysis.csv\")"
   ]
  },
  {
   "cell_type": "code",
   "execution_count": null,
   "metadata": {},
   "outputs": [],
   "source": [
    "# Create the student list \n",
    "result = pd.DataFrame(columns = ['userID', 'totalSteps'])\n",
    "result['userID'] = dfNew['userID'].unique()\n",
    "print(result.shape)\n",
    "print(result)"
   ]
  },
  {
   "cell_type": "code",
   "execution_count": null,
   "metadata": {},
   "outputs": [],
   "source": [
    "# Find the number of steps per student\n",
    "dfNew = dfNew.assign(stateChange=0)\n",
    "dfNew = dfNew.reset_index()\n",
    "print(dfNew.head())"
   ]
  },
  {
   "cell_type": "code",
   "execution_count": null,
   "metadata": {},
   "outputs": [],
   "source": [
    "# Find the number of steps per student\n",
    "dfNew['stateChange'] = 0\n",
    "dfNew = dfNew.astype({\"stepPreState\": str, \"stepPostState\": str})\n",
    "\n",
    "for i in range(len(dfNew)-1):\n",
    "\n",
    "    if((dfNew['userID'].iloc[i]==dfNew['userID'].iloc[i+1]) and (dfNew['currentProblem'].iloc[i]==dfNew['currentProblem'].iloc[i+1]) and (dfNew['currentProblemType'].iloc[i]==\"PS\") ):\n",
    "        if(dfNew['stepPostState'].iloc[i]!=dfNew['stepPostState'].iloc[i+1]):\n",
    "            if(dfNew['stepPostState'].iloc[i]==\"nan\" or dfNew['stepPostState'].iloc[i+1]==\"nan\"):\n",
    "                continue\n",
    "            #if(np.isnan(dfNew['stepPostState'].iloc[i])==False and np.isnan(dfNew['stepPostState'].iloc[i+1])==False):\n",
    "            else:    \n",
    "                dfNew['stateChange'].iloc[i] = 1\n",
    "                     "
   ]
  },
  {
   "cell_type": "code",
   "execution_count": null,
   "metadata": {},
   "outputs": [],
   "source": [
    "\n",
    "dfNew.to_csv(\"actionLog_3_F20_PreprocessedStepAnalysis.csv\")"
   ]
  },
  {
   "cell_type": "code",
   "execution_count": null,
   "metadata": {},
   "outputs": [],
   "source": [
    "# Find the number of steps per student\n",
    "result['totalSteps'] = (dfNew.groupby('userID')['stateChange'].sum()).values\n",
    "print(result.head())"
   ]
  },
  {
   "cell_type": "code",
   "execution_count": null,
   "metadata": {},
   "outputs": [],
   "source": [
    "# Find the number of training steps per student\n",
    "dfNew['trainingSteps'] = np.where(((dfNew['currentProblem']!=2.8) & (dfNew['currentProblem']!=3.8) & (dfNew['currentProblem']!=4.8) & (dfNew['currentProblem']!=5.8) & (dfNew['currentProblem']!=6.8) & (dfNew['currentProblem']<7) & (dfNew['currentProblem']>=2) ),  dfNew['stateChange'],0)\n",
    "result['trainingSteps'] = (dfNew.groupby('userID')['trainingSteps'].sum()).values\n",
    "print(result.head())"
   ]
  },
  {
   "cell_type": "code",
   "execution_count": null,
   "metadata": {},
   "outputs": [],
   "source": [
    "# Find the number of level end steps per student\n",
    "dfNew['levelEndSteps'] = np.where( ( (dfNew['currentProblem']==2.8) | (dfNew['currentProblem']==3.8) | (dfNew['currentProblem']==4.8) | (dfNew['currentProblem']==5.8) | (dfNew['currentProblem']==6.8) ),  dfNew['stateChange'],0)\n",
    "result['levelEndSteps'] = (dfNew.groupby('userID')['levelEndSteps'].sum()).values\n",
    "print(result.head())"
   ]
  },
  {
   "cell_type": "code",
   "execution_count": null,
   "metadata": {},
   "outputs": [],
   "source": [
    "# Find the number of posttest steps per student\n",
    "dfNew['posttestSteps'] = np.where( (dfNew['currentProblem']>=7 ),  dfNew['stateChange'],0)\n",
    "result['posttestSteps'] = (dfNew.groupby('userID')['posttestSteps'].sum()).values\n",
    "print(result.head())"
   ]
  },
  {
   "cell_type": "code",
   "execution_count": null,
   "metadata": {},
   "outputs": [],
   "source": [
    "# Find the number of steps per student in transfer task\n",
    "dfNew['posttestStepsT'] = np.where( (dfNew['currentProblem']==7.6 ),  dfNew['stateChange'],0)\n",
    "result['posttestStepsT'] = (dfNew.groupby('userID')['posttestStepsT'].sum()).values\n",
    "print(result.head())"
   ]
  },
  {
   "cell_type": "code",
   "execution_count": null,
   "metadata": {},
   "outputs": [],
   "source": [
    "result.to_csv(\"Result/actionLog_3_F20_ResultStepAnalysis.csv\")"
   ]
  },
  {
   "cell_type": "code",
   "execution_count": null,
   "metadata": {},
   "outputs": [],
   "source": [
    "# Find average # of steps per student\n",
    "print(\"total steps\")\n",
    "avgTotalSteps = np.mean(result['totalSteps'])\n",
    "print(avgTotalSteps)\n",
    "SDTotalSteps = np.std(result['totalSteps'])\n",
    "print(SDTotalSteps)\n",
    "\n",
    "# Find average # of training steps per student\n",
    "print(\"training steps\")\n",
    "avgTrainingSteps = np.mean(result['trainingSteps'])\n",
    "print(avgTrainingSteps)\n",
    "SDTrainingSteps = np.std(result['trainingSteps'])\n",
    "print(SDTrainingSteps)\n",
    "\n",
    "# Find average # of level end steps per student\n",
    "print(\"level end steps\")\n",
    "avgLevelEndSteps = np.mean(result['levelEndSteps'])\n",
    "print(avgLevelEndSteps)\n",
    "SDLevelEndSteps = np.std(result['levelEndSteps'])\n",
    "print(SDLevelEndSteps)\n",
    "\n",
    "# Find average # of posttest steps per student\n",
    "print(\"posttest steps\")\n",
    "avgPosttestSteps = np.mean(result['posttestSteps'])\n",
    "print(avgPosttestSteps)\n",
    "SDPosttestSteps = np.std(result['posttestSteps'])\n",
    "print(SDPosttestSteps)\n",
    "\n",
    "\n",
    "# Find average # of total posttest steps per student\n",
    "print(\"total posttest steps\")\n",
    "avgTotalPosttestSteps = np.mean(result['posttestSteps']+result['levelEndSteps'])\n",
    "print(avgTotalPosttestSteps)\n",
    "SDTotalPosttestSteps = np.std(result['posttestSteps']+result['levelEndSteps'])\n",
    "print(SDTotalPosttestSteps)\n",
    "\n",
    "# Find average # of steps per student in transfer task\n",
    "print(\"transfer task\")\n",
    "avgPosttestStepsT = np.mean(result['posttestStepsT'])\n",
    "print(avgPosttestStepsT)\n",
    "SDPosttestStepsT = np.std(result['posttestStepsT'])\n",
    "print(SDPosttestStepsT)"
   ]
  }
 ],
 "metadata": {
  "interpreter": {
   "hash": "f05726d26ab2300be1cba50f097957cd30f4b7d6d54fa481d5562895504dc5f2"
  },
  "kernelspec": {
   "display_name": "Python 3.7.7 64-bit",
   "name": "python3"
  },
  "language_info": {
   "codemirror_mode": {
    "name": "ipython",
    "version": 3
   },
   "file_extension": ".py",
   "mimetype": "text/x-python",
   "name": "python",
   "nbconvert_exporter": "python",
   "pygments_lexer": "ipython3",
   "version": "3.7.7"
  },
  "orig_nbformat": 4
 },
 "nbformat": 4,
 "nbformat_minor": 2
}
