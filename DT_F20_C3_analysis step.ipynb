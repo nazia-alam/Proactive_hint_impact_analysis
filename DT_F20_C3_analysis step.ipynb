{
 "cells": [
  {
   "cell_type": "code",
   "execution_count": 1,
   "metadata": {},
   "outputs": [],
   "source": [
    "# Purpose:\n",
    "# This program uses the actionLog file from DeepThought F20 condition3 (adaptive condition)\n",
    "# Calculates:\n",
    "#  the average # of steps per student for total tutor\n",
    "#  the average # of training steps per student for total tutor\n",
    "#  the average # of level end steps per student\n",
    "#  the average # of posttest steps per student\n",
    "#\n",
    "# Preprocessing:\n",
    "# Remove the rows with erroneous IDs: hkaakat, sukhan\n",
    "# Sort the rows based on userId, and actionCount\n",
    "#\n",
    "# Author:\n",
    "# Nazia Alam"
   ]
  },
  {
   "cell_type": "code",
   "execution_count": 2,
   "metadata": {},
   "outputs": [],
   "source": [
    "#imports\n",
    "import pandas as pd\n",
    "import numpy as np\n",
    "import re"
   ]
  },
  {
   "cell_type": "code",
   "execution_count": 3,
   "metadata": {},
   "outputs": [
    {
     "name": "stdout",
     "output_type": "stream",
     "text": [
      "(208063, 10)\n",
      "     id    userID                             courseID  actionCount  \\\n",
      "0  6357  wtmoore2  NCSU;CSC226;001;STALLMANN;Fall;2020            1   \n",
      "1  6358  wtmoore2  NCSU;CSC226;001;STALLMANN;Fall;2020            2   \n",
      "2  6359  wtmoore2  NCSU;CSC226;001;STALLMANN;Fall;2020            3   \n",
      "3  6360  wtmoore2  NCSU;CSC226;001;STALLMANN;Fall;2020            4   \n",
      "4  6361  wtmoore2  NCSU;CSC226;001;STALLMANN;Fall;2020            5   \n",
      "\n",
      "   stepCount  actionCode                                       stepPreState  \\\n",
      "0          0           0                                                NaN   \n",
      "1          0          14                                                NaN   \n",
      "2          0          12  (A>(B*C))[1;0;Given],(A+D)[2;0;Given],(-D*E)[3...   \n",
      "3          0          12  (A>(B*C))[1;0;Given],(A+D)[2;0;Given],(-D*E)[3...   \n",
      "4          0          11  (A>(B*C))[1;0;Given],(A+D)[2;0;Given],(-D*E)[3...   \n",
      "\n",
      "                                       stepPostState  currentProblem  \\\n",
      "0                                                NaN             1.1   \n",
      "1  (A>(B*C))[1;0;Given],(A+D)[2;0;Given],(-D*E)[3...             1.1   \n",
      "2  (A>(B*C))[1;0;Given],(A+D)[2;0;Given],(-D*E)[3...             1.1   \n",
      "3  (A>(B*C))[1;0;Given],(A+D)[2;0;Given],(-D*E)[3...             1.1   \n",
      "4  (A>(B*C))[1;0;Given],(A+D)[2;0;Given],(-D*E)[3...             1.1   \n",
      "\n",
      "  currentProblemType  \n",
      "0                NaN  \n",
      "1                 WE  \n",
      "2                 WE  \n",
      "3                 WE  \n",
      "4                 WE  \n"
     ]
    }
   ],
   "source": [
    "#Read file for condition3: actionLog_L7_3_F20.csv\n",
    "#Read only the necessary columns from the csv file\n",
    "col_list = [\"id\",\"userID\",\"courseID\",\"actionCount\",\"currentProblem\",\"stepCount\",\"stepPreState\",\"stepPostState\",\"actionCode\",\"currentProblemType\"]\n",
    "df = pd.read_csv(\"D:/Courses/Fall2021/CSC890/Fall2020 work/Analysis/Dataset/Condition3/actionLog_L7_3_F20.csv\", usecols=col_list)\n",
    "print(df.shape)\n",
    "print(df.head())\n"
   ]
  },
  {
   "cell_type": "code",
   "execution_count": 4,
   "metadata": {},
   "outputs": [
    {
     "name": "stdout",
     "output_type": "stream",
     "text": [
      "(203178, 10)\n"
     ]
    }
   ],
   "source": [
    "# Preprocessing\n",
    "# Remove the rows with erroneous IDs: hkaakat, sukhan\n",
    "\n",
    "# Get indexes for the rows that should be dropped\n",
    "indexNumbers = df.loc[(df['userID'] == 'hkaakat') | (df['userID'] =='sukhan')].index\n",
    "\n",
    "# Delete these row indexes \n",
    "df.drop(indexNumbers , inplace=True)\n",
    "print(df.shape)\n",
    "#print(df)"
   ]
  },
  {
   "cell_type": "code",
   "execution_count": 5,
   "metadata": {},
   "outputs": [
    {
     "name": "stdout",
     "output_type": "stream",
     "text": [
      "(203178, 10)\n",
      "<bound method NDFrame.head of             id   userID                             courseID  actionCount  \\\n",
      "39027   134280  ahagedo  NCSU;CSC226;001;STALLMANN;Fall;2020            1   \n",
      "39028   134282  ahagedo  NCSU;CSC226;001;STALLMANN;Fall;2020            2   \n",
      "39029   134286  ahagedo  NCSU;CSC226;001;STALLMANN;Fall;2020            3   \n",
      "39030   134287  ahagedo  NCSU;CSC226;001;STALLMANN;Fall;2020            4   \n",
      "39031   134288  ahagedo  NCSU;CSC226;001;STALLMANN;Fall;2020            5   \n",
      "...        ...      ...                                  ...          ...   \n",
      "173916  206550   yluo14  NCSU;CSC226;002;STALLMANN;Fall;2020         2035   \n",
      "173917  206552   yluo14  NCSU;CSC226;002;STALLMANN;Fall;2020         2036   \n",
      "173918  206553   yluo14  NCSU;CSC226;002;STALLMANN;Fall;2020         2037   \n",
      "173919  206555   yluo14  NCSU;CSC226;002;STALLMANN;Fall;2020         2038   \n",
      "173920  206558   yluo14  NCSU;CSC226;002;STALLMANN;Fall;2020         2039   \n",
      "\n",
      "        stepCount  actionCode  \\\n",
      "39027           0           0   \n",
      "39028           0          14   \n",
      "39029           0           1   \n",
      "39030           0          -1   \n",
      "39031           0          -1   \n",
      "...           ...         ...   \n",
      "173916         17           3   \n",
      "173917         17          98   \n",
      "173918         17          -1   \n",
      "173919         17          -1   \n",
      "173920         17          -1   \n",
      "\n",
      "                                             stepPreState  \\\n",
      "39027                                                 NaN   \n",
      "39028                                                 NaN   \n",
      "39029   (A>(B*C))[1;0;Given],(A+D)[2;0;Given],(-D*E)[3...   \n",
      "39030   (A>(B*C))[1;0;Given],(A+D)[2;0;Given],(-D*E)[3...   \n",
      "39031   (A>(B*C))[1;0;Given],(A+D)[2;0;Given],(-D*E)[3...   \n",
      "...                                                   ...   \n",
      "173916  (A>(B>C))[1;0;Given],(A+-D)[2;0;Given],B[3;0;G...   \n",
      "173917  (A>(B>C))[1;0;Given],(A+-D)[2;0;Given],B[3;0;G...   \n",
      "173918  (A>(B>C))[1;0;Given],(A+-D)[2;0;Given],B[3;0;G...   \n",
      "173919  (A>(B>C))[1;0;Given],(A+-D)[2;0;Given],B[3;0;G...   \n",
      "173920  (A>(B>C))[1;0;Given],(A+-D)[2;0;Given],B[3;0;G...   \n",
      "\n",
      "                                            stepPostState  currentProblem  \\\n",
      "39027                                                 NaN             1.1   \n",
      "39028   (A>(B*C))[1;0;Given],(A+D)[2;0;Given],(-D*E)[3...             1.1   \n",
      "39029   (A>(B*C))[1;0;Given],(A+D)[2;0;Given],(-D*E)[3...             1.1   \n",
      "39030   (A>(B*C))[1;0;Given],(A+D)[2;0;Given],(-D*E)[3...             1.1   \n",
      "39031   (A>(B*C))[1;0;Given],(A+D)[2;0;Given],(-D*E)[3...             1.1   \n",
      "...                                                   ...             ...   \n",
      "173916  (A>(B>C))[1;0;Given],(A+-D)[2;0;Given],B[3;0;G...             7.6   \n",
      "173917                                                NaN             7.6   \n",
      "173918  (A>(B>C))[1;0;Given],(A+-D)[2;0;Given],B[3;0;G...             7.6   \n",
      "173919  (A>(B>C))[1;0;Given],(A+-D)[2;0;Given],B[3;0;G...             7.6   \n",
      "173920  (A>(B>C))[1;0;Given],(A+-D)[2;0;Given],B[3;0;G...             7.6   \n",
      "\n",
      "       currentProblemType  \n",
      "39027                 NaN  \n",
      "39028                  WE  \n",
      "39029                  WE  \n",
      "39030                  WE  \n",
      "39031                  WE  \n",
      "...                   ...  \n",
      "173916                 PS  \n",
      "173917                 PS  \n",
      "173918              P_END  \n",
      "173919              P_END  \n",
      "173920              P_END  \n",
      "\n",
      "[203178 rows x 10 columns]>\n"
     ]
    }
   ],
   "source": [
    "# Preprocessing\n",
    "# Sort the rows based on userId, and actionCount\n",
    "dfNew = df.sort_values(by=['userID','actionCount'])\n",
    "print(dfNew.shape)\n",
    "print(dfNew.head)\n",
    "#dfNew.to_csv(\"actionLog_3_F20_PreprocessedStepAnalysis.csv\")"
   ]
  },
  {
   "cell_type": "code",
   "execution_count": 6,
   "metadata": {},
   "outputs": [
    {
     "name": "stdout",
     "output_type": "stream",
     "text": [
      "(78, 2)\n",
      "      userID totalSteps\n",
      "0    ahagedo        NaN\n",
      "1     amdaum        NaN\n",
      "2   askelly4        NaN\n",
      "3    asnair2        NaN\n",
      "4   bjjohns6        NaN\n",
      "..       ...        ...\n",
      "73  wcallred        NaN\n",
      "74  wtmoore2        NaN\n",
      "75  ychen267        NaN\n",
      "76   yliu229        NaN\n",
      "77    yluo14        NaN\n",
      "\n",
      "[78 rows x 2 columns]\n"
     ]
    }
   ],
   "source": [
    "# Create the student list \n",
    "result = pd.DataFrame(columns = ['userID', 'totalSteps'])\n",
    "result['userID'] = dfNew['userID'].unique()\n",
    "print(result.shape)\n",
    "print(result)"
   ]
  },
  {
   "cell_type": "code",
   "execution_count": 7,
   "metadata": {},
   "outputs": [
    {
     "name": "stdout",
     "output_type": "stream",
     "text": [
      "   index      id   userID                             courseID  actionCount  \\\n",
      "0  39027  134280  ahagedo  NCSU;CSC226;001;STALLMANN;Fall;2020            1   \n",
      "1  39028  134282  ahagedo  NCSU;CSC226;001;STALLMANN;Fall;2020            2   \n",
      "2  39029  134286  ahagedo  NCSU;CSC226;001;STALLMANN;Fall;2020            3   \n",
      "3  39030  134287  ahagedo  NCSU;CSC226;001;STALLMANN;Fall;2020            4   \n",
      "4  39031  134288  ahagedo  NCSU;CSC226;001;STALLMANN;Fall;2020            5   \n",
      "\n",
      "   stepCount  actionCode                                       stepPreState  \\\n",
      "0          0           0                                                NaN   \n",
      "1          0          14                                                NaN   \n",
      "2          0           1  (A>(B*C))[1;0;Given],(A+D)[2;0;Given],(-D*E)[3...   \n",
      "3          0          -1  (A>(B*C))[1;0;Given],(A+D)[2;0;Given],(-D*E)[3...   \n",
      "4          0          -1  (A>(B*C))[1;0;Given],(A+D)[2;0;Given],(-D*E)[3...   \n",
      "\n",
      "                                       stepPostState  currentProblem  \\\n",
      "0                                                NaN             1.1   \n",
      "1  (A>(B*C))[1;0;Given],(A+D)[2;0;Given],(-D*E)[3...             1.1   \n",
      "2  (A>(B*C))[1;0;Given],(A+D)[2;0;Given],(-D*E)[3...             1.1   \n",
      "3  (A>(B*C))[1;0;Given],(A+D)[2;0;Given],(-D*E)[3...             1.1   \n",
      "4  (A>(B*C))[1;0;Given],(A+D)[2;0;Given],(-D*E)[3...             1.1   \n",
      "\n",
      "  currentProblemType  stateChange  \n",
      "0                NaN            0  \n",
      "1                 WE            0  \n",
      "2                 WE            0  \n",
      "3                 WE            0  \n",
      "4                 WE            0  \n"
     ]
    }
   ],
   "source": [
    "# Find the number of steps per student\n",
    "dfNew = dfNew.assign(stateChange=0)\n",
    "dfNew = dfNew.reset_index()\n",
    "print(dfNew.head())"
   ]
  },
  {
   "cell_type": "code",
   "execution_count": 8,
   "metadata": {},
   "outputs": [
    {
     "name": "stderr",
     "output_type": "stream",
     "text": [
      "C:\\Users\\nazia\\AppData\\Local\\Programs\\Python\\Python37\\lib\\site-packages\\pandas\\core\\indexing.py:1732: SettingWithCopyWarning: \n",
      "A value is trying to be set on a copy of a slice from a DataFrame\n",
      "\n",
      "See the caveats in the documentation: https://pandas.pydata.org/pandas-docs/stable/user_guide/indexing.html#returning-a-view-versus-a-copy\n",
      "  self._setitem_single_block(indexer, value, name)\n"
     ]
    }
   ],
   "source": [
    "# Find the number of steps per student\n",
    "dfNew['stateChange'] = 0\n",
    "dfNew = dfNew.astype({\"stepPreState\": str, \"stepPostState\": str})\n",
    "\n",
    "for i in range(len(dfNew)-1):\n",
    "\n",
    "    if((dfNew['userID'].iloc[i]==dfNew['userID'].iloc[i+1]) and (dfNew['currentProblem'].iloc[i]==dfNew['currentProblem'].iloc[i+1]) and (dfNew['currentProblemType'].iloc[i]==\"PS\") ):\n",
    "        if(dfNew['stepPostState'].iloc[i]!=dfNew['stepPostState'].iloc[i+1]):\n",
    "            if(dfNew['stepPostState'].iloc[i]==\"nan\" or dfNew['stepPostState'].iloc[i+1]==\"nan\"):\n",
    "                continue\n",
    "            #if(np.isnan(dfNew['stepPostState'].iloc[i])==False and np.isnan(dfNew['stepPostState'].iloc[i+1])==False):\n",
    "            else:    \n",
    "                dfNew['stateChange'].iloc[i] = 1\n",
    "                     "
   ]
  },
  {
   "cell_type": "code",
   "execution_count": 9,
   "metadata": {},
   "outputs": [],
   "source": [
    "\n",
    "dfNew.to_csv(\"actionLog_3_F20_PreprocessedStepAnalysis.csv\")"
   ]
  },
  {
   "cell_type": "code",
   "execution_count": 10,
   "metadata": {},
   "outputs": [
    {
     "name": "stdout",
     "output_type": "stream",
     "text": [
      "     userID  totalSteps\n",
      "0   ahagedo         363\n",
      "1    amdaum         415\n",
      "2  askelly4         344\n",
      "3   asnair2         336\n",
      "4  bjjohns6         270\n"
     ]
    }
   ],
   "source": [
    "# Find the number of steps per student\n",
    "result['totalSteps'] = (dfNew.groupby('userID')['stateChange'].sum()).values\n",
    "print(result.head())"
   ]
  },
  {
   "cell_type": "code",
   "execution_count": 11,
   "metadata": {},
   "outputs": [
    {
     "name": "stdout",
     "output_type": "stream",
     "text": [
      "     userID  totalSteps  trainingSteps\n",
      "0   ahagedo         363            107\n",
      "1    amdaum         415            119\n",
      "2  askelly4         344            135\n",
      "3   asnair2         336            115\n",
      "4  bjjohns6         270            114\n"
     ]
    }
   ],
   "source": [
    "# Find the number of training steps per student\n",
    "dfNew['trainingSteps'] = np.where(((dfNew['currentProblem']!=2.8) & (dfNew['currentProblem']!=3.8) & (dfNew['currentProblem']!=4.8) & (dfNew['currentProblem']!=5.8) & (dfNew['currentProblem']!=6.8) & (dfNew['currentProblem']<7) & (dfNew['currentProblem']>=2) ),  dfNew['stateChange'],0)\n",
    "result['trainingSteps'] = (dfNew.groupby('userID')['trainingSteps'].sum()).values\n",
    "print(result.head())"
   ]
  },
  {
   "cell_type": "code",
   "execution_count": 12,
   "metadata": {},
   "outputs": [
    {
     "name": "stdout",
     "output_type": "stream",
     "text": [
      "     userID  totalSteps  trainingSteps  levelEndSteps\n",
      "0   ahagedo         363            107            138\n",
      "1    amdaum         415            119            196\n",
      "2  askelly4         344            135            126\n",
      "3   asnair2         336            115             66\n",
      "4  bjjohns6         270            114             68\n"
     ]
    }
   ],
   "source": [
    "# Find the number of level end steps per student\n",
    "dfNew['levelEndSteps'] = np.where( ( (dfNew['currentProblem']==2.8) | (dfNew['currentProblem']==3.8) | (dfNew['currentProblem']==4.8) | (dfNew['currentProblem']==5.8) | (dfNew['currentProblem']==6.8) ),  dfNew['stateChange'],0)\n",
    "result['levelEndSteps'] = (dfNew.groupby('userID')['levelEndSteps'].sum()).values\n",
    "print(result.head())"
   ]
  },
  {
   "cell_type": "code",
   "execution_count": 13,
   "metadata": {},
   "outputs": [
    {
     "name": "stdout",
     "output_type": "stream",
     "text": [
      "     userID  totalSteps  trainingSteps  levelEndSteps  posttestSteps\n",
      "0   ahagedo         363            107            138             56\n",
      "1    amdaum         415            119            196             73\n",
      "2  askelly4         344            135            126             70\n",
      "3   asnair2         336            115             66            130\n",
      "4  bjjohns6         270            114             68             77\n"
     ]
    }
   ],
   "source": [
    "# Find the number of posttest steps per student\n",
    "dfNew['posttestSteps'] = np.where( (dfNew['currentProblem']>=7 ),  dfNew['stateChange'],0)\n",
    "result['posttestSteps'] = (dfNew.groupby('userID')['posttestSteps'].sum()).values\n",
    "print(result.head())"
   ]
  },
  {
   "cell_type": "code",
   "execution_count": 14,
   "metadata": {},
   "outputs": [
    {
     "name": "stdout",
     "output_type": "stream",
     "text": [
      "     userID  totalSteps  trainingSteps  levelEndSteps  posttestSteps  \\\n",
      "0   ahagedo         363            107            138             56   \n",
      "1    amdaum         415            119            196             73   \n",
      "2  askelly4         344            135            126             70   \n",
      "3   asnair2         336            115             66            130   \n",
      "4  bjjohns6         270            114             68             77   \n",
      "\n",
      "   posttestStepsT  \n",
      "0              24  \n",
      "1              28  \n",
      "2              10  \n",
      "3              55  \n",
      "4              31  \n"
     ]
    }
   ],
   "source": [
    "# Find the number of steps per student in transfer task\n",
    "dfNew['posttestStepsT'] = np.where( (dfNew['currentProblem']==7.6 ),  dfNew['stateChange'],0)\n",
    "result['posttestStepsT'] = (dfNew.groupby('userID')['posttestStepsT'].sum()).values\n",
    "print(result.head())"
   ]
  },
  {
   "cell_type": "code",
   "execution_count": 15,
   "metadata": {},
   "outputs": [],
   "source": [
    "result.to_csv(\"Result/actionLog_3_F20_ResultStepAnalysis.csv\")"
   ]
  },
  {
   "cell_type": "code",
   "execution_count": 19,
   "metadata": {},
   "outputs": [
    {
     "name": "stdout",
     "output_type": "stream",
     "text": [
      "total steps\n",
      "354.7435897435897\n",
      "105.60308317874687\n",
      "training steps\n",
      "122.84615384615384\n",
      "32.659893432974556\n",
      "level end steps\n",
      "104.7051282051282\n",
      "58.83203143203081\n",
      "posttest steps\n",
      "94.47435897435898\n",
      "41.875188283992884\n",
      "total posttest steps\n",
      "199.17948717948718\n",
      "79.6865242266643\n",
      "transfer task\n",
      "33.17948717948718\n",
      "32.16055219808474\n"
     ]
    }
   ],
   "source": [
    "# Find average # of steps per student\n",
    "print(\"total steps\")\n",
    "avgTotalSteps = np.mean(result['totalSteps'])\n",
    "print(avgTotalSteps)\n",
    "SDTotalSteps = np.std(result['totalSteps'])\n",
    "print(SDTotalSteps)\n",
    "\n",
    "# Find average # of training steps per student\n",
    "print(\"training steps\")\n",
    "avgTrainingSteps = np.mean(result['trainingSteps'])\n",
    "print(avgTrainingSteps)\n",
    "SDTrainingSteps = np.std(result['trainingSteps'])\n",
    "print(SDTrainingSteps)\n",
    "\n",
    "# Find average # of level end steps per student\n",
    "print(\"level end steps\")\n",
    "avgLevelEndSteps = np.mean(result['levelEndSteps'])\n",
    "print(avgLevelEndSteps)\n",
    "SDLevelEndSteps = np.std(result['levelEndSteps'])\n",
    "print(SDLevelEndSteps)\n",
    "\n",
    "# Find average # of posttest steps per student\n",
    "print(\"posttest steps\")\n",
    "avgPosttestSteps = np.mean(result['posttestSteps'])\n",
    "print(avgPosttestSteps)\n",
    "SDPosttestSteps = np.std(result['posttestSteps'])\n",
    "print(SDPosttestSteps)\n",
    "\n",
    "\n",
    "# Find average # of total posttest steps per student\n",
    "print(\"total posttest steps\")\n",
    "avgTotalPosttestSteps = np.mean(result['posttestSteps']+result['levelEndSteps'])\n",
    "print(avgTotalPosttestSteps)\n",
    "SDTotalPosttestSteps = np.std(result['posttestSteps']+result['levelEndSteps'])\n",
    "print(SDTotalPosttestSteps)\n",
    "\n",
    "# Find average # of steps per student in transfer task\n",
    "print(\"transfer task\")\n",
    "avgPosttestStepsT = np.mean(result['posttestStepsT'])\n",
    "print(avgPosttestStepsT)\n",
    "SDPosttestStepsT = np.std(result['posttestStepsT'])\n",
    "print(SDPosttestStepsT)"
   ]
  }
 ],
 "metadata": {
  "interpreter": {
   "hash": "f05726d26ab2300be1cba50f097957cd30f4b7d6d54fa481d5562895504dc5f2"
  },
  "kernelspec": {
   "display_name": "Python 3.7.7 64-bit",
   "name": "python3"
  },
  "language_info": {
   "codemirror_mode": {
    "name": "ipython",
    "version": 3
   },
   "file_extension": ".py",
   "mimetype": "text/x-python",
   "name": "python",
   "nbconvert_exporter": "python",
   "pygments_lexer": "ipython3",
   "version": "3.7.7"
  },
  "orig_nbformat": 4
 },
 "nbformat": 4,
 "nbformat_minor": 2
}
