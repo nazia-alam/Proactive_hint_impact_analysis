{
 "cells": [
  {
   "cell_type": "code",
   "execution_count": null,
   "metadata": {},
   "outputs": [],
   "source": [
    "# Purpose:\n",
    "# This program uses the actionLog file from DeepThought F20 condition3 (adaptive condition)\n",
    "# Calculates:\n",
    "#  the average total tutor time \n",
    "#  average posttest time per student \n",
    "#  average level end posttest per student \n",
    "#  average training time per student\n",
    "#\n",
    "# Preprocessing:\n",
    "# Remove the rows with erroneous IDs: hkaakat, sukhan\n",
    "# Sort the rows based on userId, and actionCount\n",
    "#\n",
    "# Author:\n",
    "# Nazia Alam"
   ]
  },
  {
   "cell_type": "code",
   "execution_count": null,
   "metadata": {},
   "outputs": [],
   "source": [
    "#imports\n",
    "import pandas as pd\n",
    "import numpy as np\n",
    "import re\n",
    "import statsmodels.api as sm\n",
    "import pylab as py\n",
    "import matplotlib.pyplot as plt"
   ]
  },
  {
   "cell_type": "code",
   "execution_count": null,
   "metadata": {},
   "outputs": [],
   "source": [
    "#Read file for condition3: actionLog_L7_3_F20.csv\n",
    "#Read only the necessary columns from the csv file\n",
    "col_list = [\"id\",\"userID\",\"courseID\",\"actionCount\",\"currentProblem\",\"actionTime\",\"stepTime\",\"problemTime\",\"sessionTime\"]\n",
    "df = pd.read_csv(\"D:/Courses/Fall2021/CSC890/Fall2020 work/Analysis/Dataset/Condition3/actionLog_L7_3_F20.csv\", usecols=col_list)\n",
    "print(df.shape)\n",
    "#print(df.head())\n"
   ]
  },
  {
   "cell_type": "code",
   "execution_count": null,
   "metadata": {},
   "outputs": [],
   "source": [
    "# Preprocessing\n",
    "# Remove the rows with erroneous IDs: hkaakat, sukhan\n",
    "\n",
    "# Get indexes for the rows that should be dropped\n",
    "indexNumbers = df.loc[(df['userID'] == 'hkaakat') | (df['userID'] =='sukhan')].index\n",
    "\n",
    "# Delete these row indexes \n",
    "df.drop(indexNumbers , inplace=True)\n",
    "print(df.shape)\n",
    "#print(df)"
   ]
  },
  {
   "cell_type": "code",
   "execution_count": null,
   "metadata": {},
   "outputs": [],
   "source": [
    "# Preprocessing\n",
    "# Sort the rows based on userId, and actionCount\n",
    "dfNew = df.sort_values(by=['userID','actionCount'])\n",
    "print(dfNew.shape)\n",
    "print(dfNew.head)\n"
   ]
  },
  {
   "cell_type": "code",
   "execution_count": null,
   "metadata": {},
   "outputs": [],
   "source": [
    "# Create the student list \n",
    "result = pd.DataFrame(columns = ['userID', 'totalTutorTime'])\n",
    "result['userID'] = dfNew['userID'].unique()\n",
    "print(result.shape)\n",
    "print(result)"
   ]
  },
  {
   "cell_type": "code",
   "execution_count": null,
   "metadata": {},
   "outputs": [],
   "source": [
    "# find the number of steps where action time was capped\n",
    "count = 0\n",
    "for i in range(len(dfNew)):\n",
    "     if(dfNew['actionTime'].iloc[i]>300):\n",
    "         count = count + 1\n",
    "print(count)"
   ]
  },
  {
   "cell_type": "code",
   "execution_count": null,
   "metadata": {},
   "outputs": [],
   "source": [
    "# Find the updated actionTime\n",
    "# For each actionTime, cap it to 5 minute\n",
    "dfNew['updatedActionTime'] = np.where(dfNew['actionTime'] >300 , 300, dfNew['actionTime'])\n",
    "print(dfNew['updatedActionTime'])\n",
    "dfNew.to_csv(\"actionLog_3_F20_PreprocessedTimeAnalysis.csv\")"
   ]
  },
  {
   "cell_type": "code",
   "execution_count": null,
   "metadata": {},
   "outputs": [],
   "source": [
    "# Find the posttest action time\n",
    "dfNew['posttestActionTime'] = np.where(dfNew['currentProblem'] >=7 ,  dfNew['updatedActionTime'],0)\n",
    "result['posttestTime'] = (dfNew.groupby('userID')['posttestActionTime'].sum()).values"
   ]
  },
  {
   "cell_type": "code",
   "execution_count": null,
   "metadata": {},
   "outputs": [],
   "source": [
    "# Find the pretest action time\n",
    "dfNew['pretestActionTime'] = np.where((dfNew['currentProblem'] ==1.3) | (dfNew['currentProblem'] ==1.4) ,  dfNew['updatedActionTime'],0)\n",
    "result['pretestTime'] = (dfNew.groupby('userID')['pretestActionTime'].sum()).values"
   ]
  },
  {
   "cell_type": "code",
   "execution_count": null,
   "metadata": {},
   "outputs": [],
   "source": [
    "# Find the transfer task  action time\n",
    "dfNew['transferTaskActionTime'] = np.where(dfNew['currentProblem'] ==7.6 ,  dfNew['updatedActionTime'],0)\n",
    "result['transferTaskTime'] = (dfNew.groupby('userID')['transferTaskActionTime'].sum()).values"
   ]
  },
  {
   "cell_type": "code",
   "execution_count": null,
   "metadata": {},
   "outputs": [],
   "source": [
    "# Find the level end posttest action time\n",
    "dfNew['levelEndPosttest'] = np.where(((dfNew['currentProblem']==2.8) | (dfNew['currentProblem']==3.8) | (dfNew['currentProblem']==4.8) | (dfNew['currentProblem']==5.8) | (dfNew['currentProblem']==6.8)  ),  dfNew['updatedActionTime'],0)\n",
    "result['levelEndPosttest'] = (dfNew.groupby('userID')['levelEndPosttest'].sum()).values"
   ]
  },
  {
   "cell_type": "code",
   "execution_count": null,
   "metadata": {},
   "outputs": [],
   "source": [
    "# Find the training action time\n",
    "dfNew['trainingTime'] = np.where(((dfNew['currentProblem']!=2.8) & (dfNew['currentProblem']!=3.8) & (dfNew['currentProblem']!=4.8) & (dfNew['currentProblem']!=5.8) & (dfNew['currentProblem']!=6.8) & (dfNew['currentProblem']<7) & (dfNew['currentProblem']>=2) ),  dfNew['updatedActionTime'],0)\n",
    "result['trainingTime'] = (dfNew.groupby('userID')['trainingTime'].sum()).values"
   ]
  },
  {
   "cell_type": "code",
   "execution_count": null,
   "metadata": {},
   "outputs": [],
   "source": [
    "# Find the total tutor time per student in condition3\n",
    "result['totalTutorTime'] = (dfNew.groupby('userID')['actionTime'].sum()).values\n",
    "result['updatedTotalTutorTime'] = (dfNew.groupby('userID')['updatedActionTime'].sum()).values\n",
    "result['totalPosttestTime'] = result['levelEndPosttest'] + result['posttestTime']\n",
    "print(result.head())\n",
    "result.to_csv(\"Result/actionLog_3_F20_ResultTimeAnalysis.csv\")"
   ]
  },
  {
   "cell_type": "code",
   "execution_count": null,
   "metadata": {},
   "outputs": [],
   "source": [
    "print(result.describe()/60)"
   ]
  },
  {
   "cell_type": "code",
   "execution_count": null,
   "metadata": {},
   "outputs": [],
   "source": [
    "# Find the average and SD of total tutor time per student in condition3\n",
    "avgTutorTime = np.mean(result['totalTutorTime'])\n",
    "print(avgTutorTime)\n",
    "print(\"in minute\",(avgTutorTime/60))\n",
    "\n",
    "print(\"total tutor time\")\n",
    "# Find the average and SD of total tutor time per student in condition3 using updated actionTime\n",
    "updatedAvgTutorTime = np.mean(result['updatedTotalTutorTime'])\n",
    "updatedSDTutorTime = np.std(result['updatedTotalTutorTime'])\n",
    "print(updatedAvgTutorTime)\n",
    "print(\"in minute\",(updatedAvgTutorTime/60))\n",
    "print(\"in minute sd\",(updatedSDTutorTime/60))\n",
    "\n",
    "print(\"final posttest\")\n",
    "# Find the average and SD of  posttest time per student in condition3 using updated actionTime\n",
    "avgPosttestTime = np.mean(result['posttestTime'])\n",
    "SDPosttestTime = np.std(result['posttestTime'])\n",
    "print(avgPosttestTime)\n",
    "print(\"in minute\",(avgPosttestTime/60))\n",
    "print(\"in minute SD\",(SDPosttestTime/60))\n",
    "\n",
    "print(\"level end\")\n",
    "# Find the average and SD level end posttest time per student in condition3 using updated actionTime\n",
    "avgLevelEndPosttest = np.mean(result['levelEndPosttest'])\n",
    "SDLevelEndPosttest = np.std(result['levelEndPosttest'])\n",
    "print(avgLevelEndPosttest)\n",
    "print(\"in minute\",(avgLevelEndPosttest/60))\n",
    "print(\"in minute SD\",(SDLevelEndPosttest/60))\n",
    "\n",
    "print(\"total posttest\")\n",
    "#avgTotalPosttestTime = np.mean(result['posttestTime']+result['levelEndPosttest'])\n",
    "#SDTotalPosttestTime = np.std(result['posttestTime']+result['levelEndPosttest'])\n",
    "\n",
    "avgTotalPosttestTime = np.mean(result['totalPosttestTime'])\n",
    "SDTotalPosttestTime = np.std(result['totalPosttestTime'])\n",
    "print(avgTotalPosttestTime)\n",
    "print(\"in minute\",(avgTotalPosttestTime/60))\n",
    "print(\"in minute SD\",(SDTotalPosttestTime/60))\n",
    "\n",
    "print(\"transfer task\")\n",
    "# Find the average and SD transfer task posttest time per student in condition3 using updated actionTime\n",
    "avgTransferPosttest = np.mean(result['transferTaskTime'])\n",
    "SDTransferPosttest = np.std(result['transferTaskTime'])\n",
    "print(avgTransferPosttest)\n",
    "print(\"in minute\",(avgTransferPosttest/60))\n",
    "print(\"in minute SD\",(SDTransferPosttest/60))\n",
    "\n",
    "\n",
    "print(\"training\")\n",
    "# Find the average and SD training time per student in condition3 using updated actionTime\n",
    "avgTrainingTime = np.mean(result['trainingTime'])\n",
    "SDTrainingTime = np.std(result['trainingTime'])\n",
    "print(avgTrainingTime)\n",
    "print(\"in minute\",(avgTrainingTime/60))\n",
    "print(\"in minute SD\",(SDTrainingTime/60))"
   ]
  },
  {
   "cell_type": "code",
   "execution_count": null,
   "metadata": {},
   "outputs": [],
   "source": [
    "import matplotlib.pyplot as plt\n",
    "import numpy as np\n",
    "\n",
    "plt.hist(result['levelEndPosttest'], density=True, bins=15) \n",
    "\n"
   ]
  },
  {
   "cell_type": "code",
   "execution_count": null,
   "metadata": {},
   "outputs": [],
   "source": []
  },
  {
   "cell_type": "code",
   "execution_count": null,
   "metadata": {},
   "outputs": [],
   "source": [
    "import scipy\n",
    "import matplotlib.pyplot\n",
    "scipy.stats.probplot(result['levelEndPosttest'], dist=\"norm\", plot=matplotlib.pyplot)\n"
   ]
  },
  {
   "cell_type": "code",
   "execution_count": null,
   "metadata": {},
   "outputs": [],
   "source": [
    "scipy.stats.probplot(result['totalPosttestTime'], dist=\"norm\", plot=matplotlib.pyplot)"
   ]
  }
 ],
 "metadata": {
  "interpreter": {
   "hash": "f05726d26ab2300be1cba50f097957cd30f4b7d6d54fa481d5562895504dc5f2"
  },
  "kernelspec": {
   "display_name": "Python 3.7.7 64-bit",
   "name": "python3"
  },
  "language_info": {
   "codemirror_mode": {
    "name": "ipython",
    "version": 3
   },
   "file_extension": ".py",
   "mimetype": "text/x-python",
   "name": "python",
   "nbconvert_exporter": "python",
   "pygments_lexer": "ipython3",
   "version": "3.7.7"
  },
  "orig_nbformat": 4
 },
 "nbformat": 4,
 "nbformat_minor": 2
}
