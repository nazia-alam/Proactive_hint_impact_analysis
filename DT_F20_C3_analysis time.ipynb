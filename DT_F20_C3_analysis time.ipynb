{
 "cells": [
  {
   "cell_type": "code",
   "execution_count": 40,
   "metadata": {},
   "outputs": [],
   "source": [
    "# Purpose:\n",
    "# This program uses the actionLog file from DeepThought F20 condition3 (adaptive condition)\n",
    "# Calculates:\n",
    "#  the average total tutor time \n",
    "#  average posttest time per student \n",
    "#  average level end posttest per student \n",
    "#  average training time per student\n",
    "#\n",
    "# Preprocessing:\n",
    "# Remove the rows with erroneous IDs: hkaakat, sukhan\n",
    "# Sort the rows based on userId, and actionCount\n",
    "#\n",
    "# Author:\n",
    "# Nazia Alam"
   ]
  },
  {
   "cell_type": "code",
   "execution_count": 41,
   "metadata": {},
   "outputs": [],
   "source": [
    "#imports\n",
    "import pandas as pd\n",
    "import numpy as np\n",
    "import re\n",
    "import statsmodels.api as sm\n",
    "import pylab as py\n",
    "import matplotlib.pyplot as plt"
   ]
  },
  {
   "cell_type": "code",
   "execution_count": 42,
   "metadata": {},
   "outputs": [
    {
     "name": "stdout",
     "output_type": "stream",
     "text": [
      "(208063, 9)\n"
     ]
    }
   ],
   "source": [
    "#Read file for condition3: actionLog_L7_3_F20.csv\n",
    "#Read only the necessary columns from the csv file\n",
    "col_list = [\"id\",\"userID\",\"courseID\",\"actionCount\",\"currentProblem\",\"actionTime\",\"stepTime\",\"problemTime\",\"sessionTime\"]\n",
    "df = pd.read_csv(\"D:/Courses/Fall2021/CSC890/Fall2020 work/Analysis/Dataset/Condition3/actionLog_L7_3_F20.csv\", usecols=col_list)\n",
    "print(df.shape)\n",
    "#print(df.head())\n"
   ]
  },
  {
   "cell_type": "code",
   "execution_count": 43,
   "metadata": {},
   "outputs": [
    {
     "name": "stdout",
     "output_type": "stream",
     "text": [
      "(203178, 9)\n"
     ]
    }
   ],
   "source": [
    "# Preprocessing\n",
    "# Remove the rows with erroneous IDs: hkaakat, sukhan\n",
    "\n",
    "# Get indexes for the rows that should be dropped\n",
    "indexNumbers = df.loc[(df['userID'] == 'hkaakat') | (df['userID'] =='sukhan')].index\n",
    "\n",
    "# Delete these row indexes \n",
    "df.drop(indexNumbers , inplace=True)\n",
    "print(df.shape)\n",
    "#print(df)"
   ]
  },
  {
   "cell_type": "code",
   "execution_count": 44,
   "metadata": {},
   "outputs": [
    {
     "name": "stdout",
     "output_type": "stream",
     "text": [
      "(203178, 9)\n",
      "<bound method NDFrame.head of             id   userID                             courseID  actionCount  \\\n",
      "39027   134280  ahagedo  NCSU;CSC226;001;STALLMANN;Fall;2020            1   \n",
      "39028   134282  ahagedo  NCSU;CSC226;001;STALLMANN;Fall;2020            2   \n",
      "39029   134286  ahagedo  NCSU;CSC226;001;STALLMANN;Fall;2020            3   \n",
      "39030   134287  ahagedo  NCSU;CSC226;001;STALLMANN;Fall;2020            4   \n",
      "39031   134288  ahagedo  NCSU;CSC226;001;STALLMANN;Fall;2020            5   \n",
      "...        ...      ...                                  ...          ...   \n",
      "173916  206550   yluo14  NCSU;CSC226;002;STALLMANN;Fall;2020         2035   \n",
      "173917  206552   yluo14  NCSU;CSC226;002;STALLMANN;Fall;2020         2036   \n",
      "173918  206553   yluo14  NCSU;CSC226;002;STALLMANN;Fall;2020         2037   \n",
      "173919  206555   yluo14  NCSU;CSC226;002;STALLMANN;Fall;2020         2038   \n",
      "173920  206558   yluo14  NCSU;CSC226;002;STALLMANN;Fall;2020         2039   \n",
      "\n",
      "        currentProblem  actionTime  stepTime  problemTime  sessionTime  \n",
      "39027              1.1       0.001     0.001        0.001        0.001  \n",
      "39028              1.1       0.304     0.304        0.304        0.305  \n",
      "39029              1.1       4.017     4.017        4.321        4.322  \n",
      "39030              1.1       0.946     4.963        5.267        5.268  \n",
      "39031              1.1       0.452     5.415        5.719        5.720  \n",
      "...                ...         ...       ...          ...          ...  \n",
      "173916             7.6       0.869     0.000      324.112     2143.850  \n",
      "173917             7.6       0.001     0.001      324.113     2143.850  \n",
      "173918             7.6       0.001     0.002      324.114     2143.850  \n",
      "173919             7.6       0.662     0.664      324.776     2144.510  \n",
      "173920             7.6       1.413     2.077      326.189     2145.920  \n",
      "\n",
      "[203178 rows x 9 columns]>\n"
     ]
    }
   ],
   "source": [
    "# Preprocessing\n",
    "# Sort the rows based on userId, and actionCount\n",
    "dfNew = df.sort_values(by=['userID','actionCount'])\n",
    "print(dfNew.shape)\n",
    "print(dfNew.head)\n"
   ]
  },
  {
   "cell_type": "code",
   "execution_count": 45,
   "metadata": {},
   "outputs": [
    {
     "name": "stdout",
     "output_type": "stream",
     "text": [
      "(78, 2)\n",
      "      userID totalTutorTime\n",
      "0    ahagedo            NaN\n",
      "1     amdaum            NaN\n",
      "2   askelly4            NaN\n",
      "3    asnair2            NaN\n",
      "4   bjjohns6            NaN\n",
      "..       ...            ...\n",
      "73  wcallred            NaN\n",
      "74  wtmoore2            NaN\n",
      "75  ychen267            NaN\n",
      "76   yliu229            NaN\n",
      "77    yluo14            NaN\n",
      "\n",
      "[78 rows x 2 columns]\n"
     ]
    }
   ],
   "source": [
    "# Create the student list \n",
    "result = pd.DataFrame(columns = ['userID', 'totalTutorTime'])\n",
    "result['userID'] = dfNew['userID'].unique()\n",
    "print(result.shape)\n",
    "print(result)"
   ]
  },
  {
   "cell_type": "code",
   "execution_count": 46,
   "metadata": {},
   "outputs": [
    {
     "name": "stdout",
     "output_type": "stream",
     "text": [
      "555\n"
     ]
    }
   ],
   "source": [
    "# find the number of steps where action time was capped\n",
    "count = 0\n",
    "for i in range(len(dfNew)):\n",
    "     if(dfNew['actionTime'].iloc[i]>300):\n",
    "         count = count + 1\n",
    "print(count)"
   ]
  },
  {
   "cell_type": "code",
   "execution_count": 47,
   "metadata": {},
   "outputs": [
    {
     "name": "stdout",
     "output_type": "stream",
     "text": [
      "39027     0.001\n",
      "39028     0.304\n",
      "39029     4.017\n",
      "39030     0.946\n",
      "39031     0.452\n",
      "          ...  \n",
      "173916    0.869\n",
      "173917    0.001\n",
      "173918    0.001\n",
      "173919    0.662\n",
      "173920    1.413\n",
      "Name: updatedActionTime, Length: 203178, dtype: float64\n"
     ]
    }
   ],
   "source": [
    "# Find the updated actionTime\n",
    "# For each actionTime, cap it to 5 minute\n",
    "dfNew['updatedActionTime'] = np.where(dfNew['actionTime'] >300 , 300, dfNew['actionTime'])\n",
    "print(dfNew['updatedActionTime'])\n",
    "dfNew.to_csv(\"actionLog_3_F20_PreprocessedTimeAnalysis.csv\")"
   ]
  },
  {
   "cell_type": "code",
   "execution_count": 48,
   "metadata": {},
   "outputs": [],
   "source": [
    "# Find the posttest action time\n",
    "dfNew['posttestActionTime'] = np.where(dfNew['currentProblem'] >=7 ,  dfNew['updatedActionTime'],0)\n",
    "result['posttestTime'] = (dfNew.groupby('userID')['posttestActionTime'].sum()).values"
   ]
  },
  {
   "cell_type": "code",
   "execution_count": 49,
   "metadata": {},
   "outputs": [],
   "source": [
    "# Find the pretest action time\n",
    "dfNew['pretestActionTime'] = np.where((dfNew['currentProblem'] ==1.3) | (dfNew['currentProblem'] ==1.4) ,  dfNew['updatedActionTime'],0)\n",
    "result['pretestTime'] = (dfNew.groupby('userID')['pretestActionTime'].sum()).values"
   ]
  },
  {
   "cell_type": "code",
   "execution_count": 50,
   "metadata": {},
   "outputs": [],
   "source": [
    "# Find the transfer task  action time\n",
    "dfNew['transferTaskActionTime'] = np.where(dfNew['currentProblem'] ==7.6 ,  dfNew['updatedActionTime'],0)\n",
    "result['transferTaskTime'] = (dfNew.groupby('userID')['transferTaskActionTime'].sum()).values"
   ]
  },
  {
   "cell_type": "code",
   "execution_count": 51,
   "metadata": {},
   "outputs": [],
   "source": [
    "# Find the level end posttest action time\n",
    "dfNew['levelEndPosttest'] = np.where(((dfNew['currentProblem']==2.8) | (dfNew['currentProblem']==3.8) | (dfNew['currentProblem']==4.8) | (dfNew['currentProblem']==5.8) | (dfNew['currentProblem']==6.8)  ),  dfNew['updatedActionTime'],0)\n",
    "result['levelEndPosttest'] = (dfNew.groupby('userID')['levelEndPosttest'].sum()).values"
   ]
  },
  {
   "cell_type": "code",
   "execution_count": 52,
   "metadata": {},
   "outputs": [],
   "source": [
    "# Find the training action time\n",
    "dfNew['trainingTime'] = np.where(((dfNew['currentProblem']!=2.8) & (dfNew['currentProblem']!=3.8) & (dfNew['currentProblem']!=4.8) & (dfNew['currentProblem']!=5.8) & (dfNew['currentProblem']!=6.8) & (dfNew['currentProblem']<7) & (dfNew['currentProblem']>=2) ),  dfNew['updatedActionTime'],0)\n",
    "result['trainingTime'] = (dfNew.groupby('userID')['trainingTime'].sum()).values"
   ]
  },
  {
   "cell_type": "code",
   "execution_count": 53,
   "metadata": {},
   "outputs": [
    {
     "name": "stdout",
     "output_type": "stream",
     "text": [
      "     userID  totalTutorTime  posttestTime  pretestTime  transferTaskTime  \\\n",
      "0   ahagedo      117432.037      3168.176     7126.583          1955.220   \n",
      "1    amdaum       41023.672      1993.530     2441.060           758.382   \n",
      "2  askelly4        9566.400       720.724      344.322            74.471   \n",
      "3   asnair2        9695.498      3267.133     2327.424          1227.575   \n",
      "4  bjjohns6       22669.487      3147.691      214.442          1840.939   \n",
      "\n",
      "   levelEndPosttest  trainingTime  updatedTotalTutorTime  totalPosttestTime  \n",
      "0          9823.941      3232.135              24574.772          12992.117  \n",
      "1         12955.807      4736.885              22788.121          14949.337  \n",
      "2          4439.412      1877.388               7538.329           5160.136  \n",
      "3          1295.468      2536.490               9695.498           4562.601  \n",
      "4          1630.120      4673.513               9866.493           4777.811  \n"
     ]
    }
   ],
   "source": [
    "# Find the total tutor time per student in condition3\n",
    "result['totalTutorTime'] = (dfNew.groupby('userID')['actionTime'].sum()).values\n",
    "result['updatedTotalTutorTime'] = (dfNew.groupby('userID')['updatedActionTime'].sum()).values\n",
    "result['totalPosttestTime'] = result['levelEndPosttest'] + result['posttestTime']\n",
    "print(result.head())\n",
    "result.to_csv(\"Result/actionLog_3_F20_ResultTimeAnalysis.csv\")"
   ]
  },
  {
   "cell_type": "code",
   "execution_count": 54,
   "metadata": {},
   "outputs": [
    {
     "name": "stdout",
     "output_type": "stream",
     "text": [
      "       totalTutorTime  posttestTime  pretestTime  transferTaskTime  \\\n",
      "count        1.300000      1.300000     1.300000          1.300000   \n",
      "mean       616.105278     58.977002    47.639244         22.511251   \n",
      "std        624.821083     36.220833    32.368859         21.475015   \n",
      "min         89.519383     10.750550     3.546050          1.241183   \n",
      "25%        257.632204     33.710692    22.165813          6.318896   \n",
      "50%        365.879500     50.543983    38.658275         15.319992   \n",
      "75%        686.995092     76.821292    61.628954         29.830308   \n",
      "max       3387.239350    177.988883   158.731483         93.350300   \n",
      "\n",
      "       levelEndPosttest  trainingTime  updatedTotalTutorTime  \\\n",
      "count          1.300000      1.300000               1.300000   \n",
      "mean          83.068340     77.091698             275.039793   \n",
      "std           55.024900     40.255338             108.400646   \n",
      "min            9.029200     25.056550              75.578667   \n",
      "25%           45.217679     46.669696             185.490233   \n",
      "50%           70.985458     66.853100             260.816683   \n",
      "75%          114.282162     98.789529             352.656267   \n",
      "max          322.558567    247.002983             626.896167   \n",
      "\n",
      "       totalPosttestTime  \n",
      "count           1.300000  \n",
      "mean          142.045342  \n",
      "std            67.681272  \n",
      "min            25.140350  \n",
      "25%            94.165963  \n",
      "50%           131.009475  \n",
      "75%           194.444471  \n",
      "max           418.573917  \n"
     ]
    }
   ],
   "source": [
    "print(result.describe()/60)"
   ]
  },
  {
   "cell_type": "code",
   "execution_count": 55,
   "metadata": {},
   "outputs": [
    {
     "name": "stdout",
     "output_type": "stream",
     "text": [
      "36966.31665384616\n",
      "in minute 616.1052775641026\n",
      "total tutor time\n",
      "16502.387589743594\n",
      "in minute 275.0397931623932\n",
      "in minute sd 107.70352847978354\n",
      "final posttest\n",
      "3538.6201025641026\n",
      "in minute 58.97700170940171\n",
      "in minute SD 35.98789871805682\n",
      "level end\n",
      "4984.100423076922\n",
      "in minute 83.06834038461537\n",
      "in minute SD 54.67103865333831\n",
      "total posttest\n",
      "8522.720525641025\n",
      "in minute 142.0453420940171\n",
      "in minute SD 67.24601826623484\n",
      "transfer task\n",
      "1350.6750512820513\n",
      "in minute 22.511250854700855\n",
      "in minute SD 21.336910775930036\n",
      "training\n",
      "4625.501897435897\n",
      "in minute 77.09169829059829\n",
      "in minute SD 39.99645848129059\n"
     ]
    }
   ],
   "source": [
    "# Find the average and SD of total tutor time per student in condition3\n",
    "avgTutorTime = np.mean(result['totalTutorTime'])\n",
    "print(avgTutorTime)\n",
    "print(\"in minute\",(avgTutorTime/60))\n",
    "\n",
    "print(\"total tutor time\")\n",
    "# Find the average and SD of total tutor time per student in condition3 using updated actionTime\n",
    "updatedAvgTutorTime = np.mean(result['updatedTotalTutorTime'])\n",
    "updatedSDTutorTime = np.std(result['updatedTotalTutorTime'])\n",
    "print(updatedAvgTutorTime)\n",
    "print(\"in minute\",(updatedAvgTutorTime/60))\n",
    "print(\"in minute sd\",(updatedSDTutorTime/60))\n",
    "\n",
    "print(\"final posttest\")\n",
    "# Find the average and SD of  posttest time per student in condition3 using updated actionTime\n",
    "avgPosttestTime = np.mean(result['posttestTime'])\n",
    "SDPosttestTime = np.std(result['posttestTime'])\n",
    "print(avgPosttestTime)\n",
    "print(\"in minute\",(avgPosttestTime/60))\n",
    "print(\"in minute SD\",(SDPosttestTime/60))\n",
    "\n",
    "print(\"level end\")\n",
    "# Find the average and SD level end posttest time per student in condition3 using updated actionTime\n",
    "avgLevelEndPosttest = np.mean(result['levelEndPosttest'])\n",
    "SDLevelEndPosttest = np.std(result['levelEndPosttest'])\n",
    "print(avgLevelEndPosttest)\n",
    "print(\"in minute\",(avgLevelEndPosttest/60))\n",
    "print(\"in minute SD\",(SDLevelEndPosttest/60))\n",
    "\n",
    "print(\"total posttest\")\n",
    "#avgTotalPosttestTime = np.mean(result['posttestTime']+result['levelEndPosttest'])\n",
    "#SDTotalPosttestTime = np.std(result['posttestTime']+result['levelEndPosttest'])\n",
    "\n",
    "avgTotalPosttestTime = np.mean(result['totalPosttestTime'])\n",
    "SDTotalPosttestTime = np.std(result['totalPosttestTime'])\n",
    "print(avgTotalPosttestTime)\n",
    "print(\"in minute\",(avgTotalPosttestTime/60))\n",
    "print(\"in minute SD\",(SDTotalPosttestTime/60))\n",
    "\n",
    "print(\"transfer task\")\n",
    "# Find the average and SD transfer task posttest time per student in condition3 using updated actionTime\n",
    "avgTransferPosttest = np.mean(result['transferTaskTime'])\n",
    "SDTransferPosttest = np.std(result['transferTaskTime'])\n",
    "print(avgTransferPosttest)\n",
    "print(\"in minute\",(avgTransferPosttest/60))\n",
    "print(\"in minute SD\",(SDTransferPosttest/60))\n",
    "\n",
    "\n",
    "print(\"training\")\n",
    "# Find the average and SD training time per student in condition3 using updated actionTime\n",
    "avgTrainingTime = np.mean(result['trainingTime'])\n",
    "SDTrainingTime = np.std(result['trainingTime'])\n",
    "print(avgTrainingTime)\n",
    "print(\"in minute\",(avgTrainingTime/60))\n",
    "print(\"in minute SD\",(SDTrainingTime/60))"
   ]
  },
  {
   "cell_type": "code",
   "execution_count": 56,
   "metadata": {},
   "outputs": [
    {
     "data": {
      "text/plain": [
       "(array([1.02227368e-04, 1.84009263e-04, 1.22672842e-04, 1.32895579e-04,\n",
       "        4.08909473e-05, 9.20046315e-05, 3.06682105e-05, 4.08909473e-05,\n",
       "        2.04454737e-05, 2.04454737e-05, 0.00000000e+00, 0.00000000e+00,\n",
       "        0.00000000e+00, 0.00000000e+00, 1.02227368e-05]),\n",
       " array([  541.752     ,  1795.86946667,  3049.98693333,  4304.1044    ,\n",
       "         5558.22186667,  6812.33933333,  8066.4568    ,  9320.57426667,\n",
       "        10574.69173333, 11828.8092    , 13082.92666667, 14337.04413333,\n",
       "        15591.1616    , 16845.27906667, 18099.39653333, 19353.514     ]),\n",
       " <BarContainer object of 15 artists>)"
      ]
     },
     "execution_count": 56,
     "metadata": {},
     "output_type": "execute_result"
    },
    {
     "data": {
      "image/png": "[encoded data removed]",
      "text/plain": [
       "<Figure size 432x288 with 1 Axes>"
      ]
     },
     "metadata": {
      "needs_background": "light"
     },
     "output_type": "display_data"
    }
   ],
   "source": [
    "import matplotlib.pyplot as plt\n",
    "import numpy as np\n",
    "\n",
    "plt.hist(result['levelEndPosttest'], density=True, bins=15) \n",
    "\n"
   ]
  },
  {
   "cell_type": "code",
   "execution_count": null,
   "metadata": {},
   "outputs": [],
   "source": []
  },
  {
   "cell_type": "code",
   "execution_count": 57,
   "metadata": {},
   "outputs": [
    {
     "data": {
      "text/plain": [
       "((array([-2.37195453, -2.02429227, -1.82195584, -1.67475005, -1.55685515,\n",
       "         -1.45732576, -1.37044486, -1.29283054, -1.22230774, -1.15739046,\n",
       "         -1.09701584, -1.04039577, -0.98692856, -0.93614359, -0.88766522,\n",
       "         -0.8411883 , -0.79646114, -0.75327338, -0.71144706, -0.67082998,\n",
       "         -0.63129074, -0.59271479, -0.55500149, -0.51806168, -0.48181576,\n",
       "         -0.44619218, -0.41112616, -0.37655864, -0.34243544, -0.30870647,\n",
       "         -0.27532518, -0.24224798, -0.20943379, -0.17684364, -0.14444028,\n",
       "         -0.11218792, -0.08005187, -0.04799829, -0.01599397,  0.01599397,\n",
       "          0.04799829,  0.08005187,  0.11218792,  0.14444028,  0.17684364,\n",
       "          0.20943379,  0.24224798,  0.27532518,  0.30870647,  0.34243544,\n",
       "          0.37655864,  0.41112616,  0.44619218,  0.48181576,  0.51806168,\n",
       "          0.55500149,  0.59271479,  0.63129074,  0.67082998,  0.71144706,\n",
       "          0.75327338,  0.79646114,  0.8411883 ,  0.88766522,  0.93614359,\n",
       "          0.98692856,  1.04039577,  1.09701584,  1.15739046,  1.22230774,\n",
       "          1.29283054,  1.37044486,  1.45732576,  1.55685515,  1.67475005,\n",
       "          1.82195584,  2.02429227,  2.37195453]),\n",
       "  array([  541.752,   641.327,  1060.161,  1276.086,  1295.468,  1458.011,\n",
       "          1504.692,  1612.507,  1627.307,  1630.12 ,  1864.214,  2053.586,\n",
       "          2137.563,  2259.901,  2390.886,  2489.491,  2534.29 ,  2626.938,\n",
       "          2656.297,  2686.746,  2792.005,  2806.076,  2833.192,  2848.629,\n",
       "          2886.713,  3015.778,  3019.464,  3019.99 ,  3117.188,  3205.93 ,\n",
       "          3224.514,  3369.589,  3587.157,  3674.479,  3742.322,  3806.261,\n",
       "          3938.72 ,  3958.242,  4249.232,  4269.023,  4347.081,  4439.412,\n",
       "          4762.401,  4767.951,  4837.606,  4857.035,  4918.654,  5062.062,\n",
       "          5070.217,  5108.105,  5242.735,  5389.03 ,  5424.321,  5714.75 ,\n",
       "          6020.608,  6221.165,  6616.819,  6827.883,  6866.612,  6923.946,\n",
       "          7308.555,  7448.83 ,  7610.173,  7702.182,  7722.897,  7733.818,\n",
       "          8213.71 ,  8433.471,  8445.264,  9355.22 ,  9569.294,  9612.661,\n",
       "          9823.941, 11075.403, 11355.315, 11909.538, 12955.807, 19353.514])),\n",
       " (3158.9574303250342, 4984.100423076924, 0.9392891171125428))"
      ]
     },
     "execution_count": 57,
     "metadata": {},
     "output_type": "execute_result"
    },
    {
     "data": {
      "image/png": "[encoded data removed]",
      "text/plain": [
       "<Figure size 432x288 with 1 Axes>"
      ]
     },
     "metadata": {
      "needs_background": "light"
     },
     "output_type": "display_data"
    }
   ],
   "source": [
    "import scipy\n",
    "import matplotlib.pyplot\n",
    "scipy.stats.probplot(result['levelEndPosttest'], dist=\"norm\", plot=matplotlib.pyplot)\n"
   ]
  },
  {
   "cell_type": "code",
   "execution_count": 58,
   "metadata": {},
   "outputs": [
    {
     "data": {
      "text/plain": [
       "((array([-2.37195453, -2.02429227, -1.82195584, -1.67475005, -1.55685515,\n",
       "         -1.45732576, -1.37044486, -1.29283054, -1.22230774, -1.15739046,\n",
       "         -1.09701584, -1.04039577, -0.98692856, -0.93614359, -0.88766522,\n",
       "         -0.8411883 , -0.79646114, -0.75327338, -0.71144706, -0.67082998,\n",
       "         -0.63129074, -0.59271479, -0.55500149, -0.51806168, -0.48181576,\n",
       "         -0.44619218, -0.41112616, -0.37655864, -0.34243544, -0.30870647,\n",
       "         -0.27532518, -0.24224798, -0.20943379, -0.17684364, -0.14444028,\n",
       "         -0.11218792, -0.08005187, -0.04799829, -0.01599397,  0.01599397,\n",
       "          0.04799829,  0.08005187,  0.11218792,  0.14444028,  0.17684364,\n",
       "          0.20943379,  0.24224798,  0.27532518,  0.30870647,  0.34243544,\n",
       "          0.37655864,  0.41112616,  0.44619218,  0.48181576,  0.51806168,\n",
       "          0.55500149,  0.59271479,  0.63129074,  0.67082998,  0.71144706,\n",
       "          0.75327338,  0.79646114,  0.8411883 ,  0.88766522,  0.93614359,\n",
       "          0.98692856,  1.04039577,  1.09701584,  1.15739046,  1.22230774,\n",
       "          1.29283054,  1.37044486,  1.45732576,  1.55685515,  1.67475005,\n",
       "          1.82195584,  2.02429227,  2.37195453]),\n",
       "  array([ 1508.421,  1783.599,  2103.044,  3138.872,  3426.717,  3556.629,\n",
       "          3612.929,  3657.601,  4081.564,  4279.191,  4562.601,  4777.811,\n",
       "          4900.253,  4961.767,  5160.136,  5222.901,  5393.781,  5527.587,\n",
       "          5544.333,  5616.722,  5749.665,  5826.464,  5888.427,  5908.738,\n",
       "          6056.495,  6160.968,  6256.927,  6267.952,  6539.551,  6639.763,\n",
       "          6685.224,  7008.655,  7017.095,  7208.235,  7541.302,  7644.396,\n",
       "          7660.685,  7670.386,  7815.905,  7905.232,  7949.846,  7996.295,\n",
       "          8024.458,  8153.242,  8296.433,  8331.928,  8437.909,  8604.746,\n",
       "          8902.404,  9651.938,  9793.991,  9974.52 , 10071.12 , 10393.141,\n",
       "         10581.499, 10827.919, 11097.215, 11647.427, 11673.082, 11757.352,\n",
       "         11793.657, 12130.524, 12187.343, 12278.72 , 12444.258, 12638.92 ,\n",
       "         12992.117, 13239.939, 13388.011, 13614.164, 13617.082, 13699.308,\n",
       "         13876.448, 14091.683, 14677.987, 14949.337, 17603.279, 25114.435])),\n",
       " (3998.6869874555628, 8522.720525641023, 0.9666375840090317))"
      ]
     },
     "execution_count": 58,
     "metadata": {},
     "output_type": "execute_result"
    },
    {
     "data": {
      "image/png": "[encoded data removed]",
      "text/plain": [
       "<Figure size 432x288 with 1 Axes>"
      ]
     },
     "metadata": {
      "needs_background": "light"
     },
     "output_type": "display_data"
    }
   ],
   "source": [
    "scipy.stats.probplot(result['totalPosttestTime'], dist=\"norm\", plot=matplotlib.pyplot)"
   ]
  }
 ],
 "metadata": {
  "interpreter": {
   "hash": "f05726d26ab2300be1cba50f097957cd30f4b7d6d54fa481d5562895504dc5f2"
  },
  "kernelspec": {
   "display_name": "Python 3.7.7 64-bit",
   "name": "python3"
  },
  "language_info": {
   "codemirror_mode": {
    "name": "ipython",
    "version": 3
   },
   "file_extension": ".py",
   "mimetype": "text/x-python",
   "name": "python",
   "nbconvert_exporter": "python",
   "pygments_lexer": "ipython3",
   "version": "3.7.7"
  },
  "orig_nbformat": 4
 },
 "nbformat": 4,
 "nbformat_minor": 2
}
